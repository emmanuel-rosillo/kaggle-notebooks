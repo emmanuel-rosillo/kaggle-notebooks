{
 "cells": [
  {
   "cell_type": "markdown",
   "id": "7eff0b05",
   "metadata": {
    "papermill": {
     "duration": 0.003901,
     "end_time": "2024-03-22T06:41:21.606213",
     "exception": false,
     "start_time": "2024-03-22T06:41:21.602312",
     "status": "completed"
    },
    "tags": []
   },
   "source": [
    "# Detección de fraudes en transacciones"
   ]
  },
  {
   "cell_type": "markdown",
   "id": "f4338fd6",
   "metadata": {
    "papermill": {
     "duration": 0.003566,
     "end_time": "2024-03-22T06:41:21.613477",
     "exception": false,
     "start_time": "2024-03-22T06:41:21.609911",
     "status": "completed"
    },
    "tags": []
   },
   "source": [
    "## Requisitos y dependencias"
   ]
  },
  {
   "cell_type": "code",
   "execution_count": 1,
   "id": "328f0bd0",
   "metadata": {
    "_cell_guid": "b1076dfc-b9ad-4769-8c92-a6c4dae69d19",
    "_uuid": "8f2839f25d086af736a60e9eeb907d3b93b6e0e5",
    "execution": {
     "iopub.execute_input": "2024-03-22T06:41:21.623369Z",
     "iopub.status.busy": "2024-03-22T06:41:21.622416Z",
     "iopub.status.idle": "2024-03-22T06:41:22.731783Z",
     "shell.execute_reply": "2024-03-22T06:41:22.729955Z"
    },
    "papermill": {
     "duration": 1.118561,
     "end_time": "2024-03-22T06:41:22.735473",
     "exception": false,
     "start_time": "2024-03-22T06:41:21.616912",
     "status": "completed"
    },
    "tags": []
   },
   "outputs": [],
   "source": [
    "# This Python 3 environment comes with many helpful analytics libraries installed\n",
    "# It is defined by the kaggle/python Docker image: https://github.com/kaggle/docker-python\n",
    "# For example, here's several helpful packages to load\n",
    "\n",
    "import numpy as np \n",
    "import pandas as pd\n",
    "import matplotlib.pyplot as plt\n"
   ]
  },
  {
   "cell_type": "markdown",
   "id": "7d099ec6",
   "metadata": {
    "papermill": {
     "duration": 0.003417,
     "end_time": "2024-03-22T06:41:22.742977",
     "exception": false,
     "start_time": "2024-03-22T06:41:22.739560",
     "status": "completed"
    },
    "tags": []
   },
   "source": [
    "## Etapa de analisis"
   ]
  },
  {
   "cell_type": "markdown",
   "id": "cace223b",
   "metadata": {
    "papermill": {
     "duration": 0.003462,
     "end_time": "2024-03-22T06:41:22.750779",
     "exception": false,
     "start_time": "2024-03-22T06:41:22.747317",
     "status": "completed"
    },
    "tags": []
   },
   "source": [
    "### Extracción de datos"
   ]
  },
  {
   "cell_type": "code",
   "execution_count": 2,
   "id": "52a4499e",
   "metadata": {
    "execution": {
     "iopub.execute_input": "2024-03-22T06:41:22.762086Z",
     "iopub.status.busy": "2024-03-22T06:41:22.760746Z",
     "iopub.status.idle": "2024-03-22T06:41:26.473715Z",
     "shell.execute_reply": "2024-03-22T06:41:26.472115Z"
    },
    "papermill": {
     "duration": 3.721676,
     "end_time": "2024-03-22T06:41:26.477026",
     "exception": false,
     "start_time": "2024-03-22T06:41:22.755350",
     "status": "completed"
    },
    "tags": []
   },
   "outputs": [],
   "source": [
    "df_sub = pd.read_csv('/kaggle/input/credit-card-fraud-prediction/sample_submission.csv')\n",
    "df_test = pd.read_csv('/kaggle/input/credit-card-fraud-prediction/test.csv')\n",
    "df_train = pd.read_csv('/kaggle/input/credit-card-fraud-prediction/train.csv')"
   ]
  },
  {
   "cell_type": "markdown",
   "id": "e2053522",
   "metadata": {
    "papermill": {
     "duration": 0.003346,
     "end_time": "2024-03-22T06:41:26.484397",
     "exception": false,
     "start_time": "2024-03-22T06:41:26.481051",
     "status": "completed"
    },
    "tags": []
   },
   "source": [
    "### Correlación"
   ]
  },
  {
   "cell_type": "code",
   "execution_count": null,
   "id": "b6d253e0",
   "metadata": {
    "papermill": {
     "duration": 0.004242,
     "end_time": "2024-03-22T06:41:26.493254",
     "exception": false,
     "start_time": "2024-03-22T06:41:26.489012",
     "status": "completed"
    },
    "tags": []
   },
   "outputs": [],
   "source": []
  }
 ],
 "metadata": {
  "kaggle": {
   "accelerator": "none",
   "dataSources": [
    {
     "databundleVersionId": 7952856,
     "sourceId": 72239,
     "sourceType": "competition"
    }
   ],
   "dockerImageVersionId": 30673,
   "isGpuEnabled": false,
   "isInternetEnabled": true,
   "language": "python",
   "sourceType": "notebook"
  },
  "kernelspec": {
   "display_name": "Python 3",
   "language": "python",
   "name": "python3"
  },
  "language_info": {
   "codemirror_mode": {
    "name": "ipython",
    "version": 3
   },
   "file_extension": ".py",
   "mimetype": "text/x-python",
   "name": "python",
   "nbconvert_exporter": "python",
   "pygments_lexer": "ipython3",
   "version": "3.10.13"
  },
  "papermill": {
   "default_parameters": {},
   "duration": 9.157232,
   "end_time": "2024-03-22T06:41:27.328192",
   "environment_variables": {},
   "exception": null,
   "input_path": "__notebook__.ipynb",
   "output_path": "__notebook__.ipynb",
   "parameters": {},
   "start_time": "2024-03-22T06:41:18.170960",
   "version": "2.5.0"
  }
 },
 "nbformat": 4,
 "nbformat_minor": 5
}
